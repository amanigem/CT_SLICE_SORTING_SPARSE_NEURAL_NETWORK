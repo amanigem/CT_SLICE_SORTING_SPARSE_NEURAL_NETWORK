{
  "nbformat": 4,
  "nbformat_minor": 0,
  "metadata": {
    "colab": {
      "name": "CTORG_CNN_fil",
      "provenance": [],
      "collapsed_sections": [],
      "mount_file_id": "1UIxuhXo4YrFKH3TTPJZWEWg-Wiof20k6",
      "authorship_tag": "ABX9TyP77kX3Q8jQi5m8oEYY7P/m",
      "include_colab_link": true
    },
    "kernelspec": {
      "name": "python3",
      "display_name": "Python 3"
    },
    "accelerator": "TPU"
  },
  "cells": [
    {
      "cell_type": "markdown",
      "metadata": {
        "id": "view-in-github",
        "colab_type": "text"
      },
      "source": [
        "<a href=\"https://colab.research.google.com/github/amanigem/CT_SLICE_SORTING_SPARSE_NEURAL_NETWORK/blob/master/CTORG_CNN_fil.ipynb\" target=\"_parent\"><img src=\"https://colab.research.google.com/assets/colab-badge.svg\" alt=\"Open In Colab\"/></a>"
      ]
    },
    {
      "cell_type": "code",
      "metadata": {
        "id": "opN_p_fTpDC1",
        "colab_type": "code",
        "colab": {
          "base_uri": "https://localhost:8080/",
          "height": 34
        },
        "outputId": "ad86289d-5513-493d-e4e4-0f487ea8162a"
      },
      "source": [
        "!pwd"
      ],
      "execution_count": null,
      "outputs": [
        {
          "output_type": "stream",
          "text": [
            "/content\n"
          ],
          "name": "stdout"
        }
      ]
    },
    {
      "cell_type": "code",
      "metadata": {
        "id": "DI_IJM9TePFr",
        "colab_type": "code",
        "colab": {
          "base_uri": "https://localhost:8080/",
          "height": 34
        },
        "outputId": "2c2d6629-c45e-47d1-a309-bb9040973bf3"
      },
      "source": [
        "cd/content/drive/My Drive/CT-ORG-GZ\n"
      ],
      "execution_count": null,
      "outputs": [
        {
          "output_type": "stream",
          "text": [
            "/content/drive/My Drive/CT-ORG-GZ\n"
          ],
          "name": "stdout"
        }
      ]
    },
    {
      "cell_type": "code",
      "metadata": {
        "id": "vlqSd0Fn6PcH",
        "colab_type": "code",
        "colab": {}
      },
      "source": [
        "import tensorflow as tf\n",
        "\n",
        "from tensorflow.keras import datasets, layers, models\n",
        "import matplotlib.pyplot as plt\n",
        "import time \n",
        "from sklearn.metrics import confusion_matrix\n",
        "import numpy as np \n",
        "from numpy.random import default_rng "
      ],
      "execution_count": null,
      "outputs": []
    },
    {
      "cell_type": "code",
      "metadata": {
        "id": "4-KveUaTn9rq",
        "colab_type": "code",
        "colab": {
          "base_uri": "https://localhost:8080/",
          "height": 34
        },
        "outputId": "d5060b47-2d73-41fe-b0e5-7906b5bf11d5"
      },
      "source": [
        "from sklearn.metrics import f1_score\n",
        "y_true = [0, 1, 2, 0, 1, 2]\n",
        "y_pred = [0, 2, 1, 0, 0, 1]\n",
        "f1_score(y_true, y_pred, average='macro')\n",
        "f1_score(y_true, y_pred, average='micro')\n",
        "f1_score(y_true, y_pred, average='weighted')\n",
        "f1_score(y_true, y_pred, average=None)"
      ],
      "execution_count": null,
      "outputs": [
        {
          "output_type": "execute_result",
          "data": {
            "text/plain": [
              "array([0.8, 0. , 0. ])"
            ]
          },
          "metadata": {
            "tags": []
          },
          "execution_count": 51
        }
      ]
    },
    {
      "cell_type": "code",
      "metadata": {
        "id": "BQ5jFI7n63R8",
        "colab_type": "code",
        "colab": {}
      },
      "source": [
        "volfile = 'vol32np3.npy'\n",
        "labelfile = 'train_test_labels_fln.npy'\n",
        "test_train_images = np.load(volfile)\n",
        "c = np.load(labelfile)\n",
        "train_test_labels = np.reshape(c, (-1, 1))\n",
        "x = 80\n",
        "n = train_test_labels.shape[0]\n",
        "nv1 = (i for i in range(n))\n",
        "nv =  np.fromiter(nv1, np.int)\n",
        "nt = (x/100)*n\n",
        "ntr = int(nt) \n",
        "ntt = n-ntr\n",
        "rng = default_rng()\n",
        "tri = rng.choice(n, size=ntr, replace=False)\n",
        "tti = np.setdiff1d(nv,tri) \n",
        "train_images = test_train_images [tri,:,:,:]\n",
        "train_labels = train_test_labels [tri,:]\n",
        "test_images = test_train_images[tti,:,:,:]\n",
        "test_labels = train_test_labels [tti,:]"
      ],
      "execution_count": null,
      "outputs": []
    },
    {
      "cell_type": "code",
      "metadata": {
        "id": "QjxkycFgOquY",
        "colab_type": "code",
        "colab": {}
      },
      "source": [
        "print()"
      ],
      "execution_count": null,
      "outputs": []
    },
    {
      "cell_type": "code",
      "metadata": {
        "id": "fos4mS_HOlY8",
        "colab_type": "code",
        "colab": {
          "base_uri": "https://localhost:8080/",
          "height": 1000
        },
        "outputId": "a6c68054-d7aa-4433-ab81-b79686689b9e"
      },
      "source": [
        "# CNN MODEL\n",
        "\n",
        "model.add(layers.Conv2D(32, (3, 3), activation='relu', input_shape=(32, 32, 3)))\n",
        "model.add(layers.MaxPooling2D((2, 2)))\n",
        "model.add(layers.Conv2D(64, (3, 3), activation='relu'))\n",
        "model.add(layers.MaxPooling2D((2, 2)))\n",
        "model.add(layers.Conv2D(64, (3, 3), activation='relu'))\n",
        "\n",
        "model.summary()\n",
        "\n",
        "model.add(layers.Flatten())\n",
        "model.add(layers.Dense(64, activation='relu'))\n",
        "model.add(layers.Dense(10))\n",
        "\n",
        "model.summary()\n",
        "\n",
        "model.compile(optimizer='adam',\n",
        "              loss=tf.keras.losses.SparseCategoricalCrossentropy(from_logits=True),\n",
        "              metrics=['accuracy'])\n",
        "\n",
        "history = model.fit(train_images, train_labels, epochs=20, \n",
        "                    validation_data=(test_images, test_labels))\n",
        "\n",
        "plt.plot(history.history['accuracy'], label='accuracy')\n",
        "plt.plot(history.history['val_accuracy'], label = 'val_accuracy')\n",
        "plt.xlabel('Epoch')\n",
        "plt.ylabel('Accuracy')\n",
        "plt.ylim([0.5, 1])\n",
        "plt.legend(loc = 'lower right')\n",
        "test_loss, test_acc = model.evaluate(test_images,  test_labels, verbose=2)\n",
        "\n",
        "print(test_acc)"
      ],
      "execution_count": null,
      "outputs": [
        {
          "output_type": "stream",
          "text": [
            "Model: \"sequential\"\n",
            "_________________________________________________________________\n",
            "Layer (type)                 Output Shape              Param #   \n",
            "=================================================================\n",
            "conv2d (Conv2D)              (None, 30, 30, 32)        896       \n",
            "_________________________________________________________________\n",
            "max_pooling2d (MaxPooling2D) (None, 15, 15, 32)        0         \n",
            "_________________________________________________________________\n",
            "conv2d_1 (Conv2D)            (None, 13, 13, 64)        18496     \n",
            "_________________________________________________________________\n",
            "max_pooling2d_1 (MaxPooling2 (None, 6, 6, 64)          0         \n",
            "_________________________________________________________________\n",
            "conv2d_2 (Conv2D)            (None, 4, 4, 64)          36928     \n",
            "=================================================================\n",
            "Total params: 56,320\n",
            "Trainable params: 56,320\n",
            "Non-trainable params: 0\n",
            "_________________________________________________________________\n",
            "Model: \"sequential\"\n",
            "_________________________________________________________________\n",
            "Layer (type)                 Output Shape              Param #   \n",
            "=================================================================\n",
            "conv2d (Conv2D)              (None, 30, 30, 32)        896       \n",
            "_________________________________________________________________\n",
            "max_pooling2d (MaxPooling2D) (None, 15, 15, 32)        0         \n",
            "_________________________________________________________________\n",
            "conv2d_1 (Conv2D)            (None, 13, 13, 64)        18496     \n",
            "_________________________________________________________________\n",
            "max_pooling2d_1 (MaxPooling2 (None, 6, 6, 64)          0         \n",
            "_________________________________________________________________\n",
            "conv2d_2 (Conv2D)            (None, 4, 4, 64)          36928     \n",
            "_________________________________________________________________\n",
            "flatten (Flatten)            (None, 1024)              0         \n",
            "_________________________________________________________________\n",
            "dense (Dense)                (None, 64)                65600     \n",
            "_________________________________________________________________\n",
            "dense_1 (Dense)              (None, 10)                650       \n",
            "=================================================================\n",
            "Total params: 122,570\n",
            "Trainable params: 122,570\n",
            "Non-trainable params: 0\n",
            "_________________________________________________________________\n",
            "Epoch 1/20\n",
            "261/261 [==============================] - 12s 46ms/step - loss: 0.5591 - accuracy: 0.7716 - val_loss: 0.2463 - val_accuracy: 0.9104\n",
            "Epoch 2/20\n",
            "261/261 [==============================] - 12s 45ms/step - loss: 0.2305 - accuracy: 0.9111 - val_loss: 0.1829 - val_accuracy: 0.9344\n",
            "Epoch 3/20\n",
            "261/261 [==============================] - 12s 45ms/step - loss: 0.1658 - accuracy: 0.9385 - val_loss: 0.1564 - val_accuracy: 0.9406\n",
            "Epoch 4/20\n",
            "261/261 [==============================] - 12s 45ms/step - loss: 0.1332 - accuracy: 0.9489 - val_loss: 0.0980 - val_accuracy: 0.9598\n",
            "Epoch 5/20\n",
            "261/261 [==============================] - 12s 45ms/step - loss: 0.1067 - accuracy: 0.9604 - val_loss: 0.1733 - val_accuracy: 0.9315\n",
            "Epoch 6/20\n",
            "261/261 [==============================] - 12s 45ms/step - loss: 0.0887 - accuracy: 0.9672 - val_loss: 0.0665 - val_accuracy: 0.9727\n",
            "Epoch 7/20\n",
            "261/261 [==============================] - 12s 45ms/step - loss: 0.0687 - accuracy: 0.9741 - val_loss: 0.0529 - val_accuracy: 0.9813\n",
            "Epoch 8/20\n",
            "261/261 [==============================] - 12s 45ms/step - loss: 0.0633 - accuracy: 0.9766 - val_loss: 0.0500 - val_accuracy: 0.9847\n",
            "Epoch 9/20\n",
            "261/261 [==============================] - 12s 45ms/step - loss: 0.0676 - accuracy: 0.9761 - val_loss: 0.0440 - val_accuracy: 0.9842\n",
            "Epoch 10/20\n",
            "261/261 [==============================] - 12s 45ms/step - loss: 0.0516 - accuracy: 0.9808 - val_loss: 0.0479 - val_accuracy: 0.9875\n",
            "Epoch 11/20\n",
            "261/261 [==============================] - 12s 45ms/step - loss: 0.0452 - accuracy: 0.9830 - val_loss: 0.0309 - val_accuracy: 0.9875\n",
            "Epoch 12/20\n",
            "261/261 [==============================] - 12s 45ms/step - loss: 0.0358 - accuracy: 0.9860 - val_loss: 0.0282 - val_accuracy: 0.9890\n",
            "Epoch 13/20\n",
            "261/261 [==============================] - 12s 45ms/step - loss: 0.0507 - accuracy: 0.9813 - val_loss: 0.0429 - val_accuracy: 0.9866\n",
            "Epoch 14/20\n",
            "261/261 [==============================] - 12s 45ms/step - loss: 0.0381 - accuracy: 0.9860 - val_loss: 0.0381 - val_accuracy: 0.9852\n",
            "Epoch 15/20\n",
            "261/261 [==============================] - 12s 45ms/step - loss: 0.0443 - accuracy: 0.9836 - val_loss: 0.0299 - val_accuracy: 0.9909\n",
            "Epoch 16/20\n",
            "261/261 [==============================] - 12s 45ms/step - loss: 0.0348 - accuracy: 0.9886 - val_loss: 0.0320 - val_accuracy: 0.9899\n",
            "Epoch 17/20\n",
            "261/261 [==============================] - 12s 46ms/step - loss: 0.0315 - accuracy: 0.9885 - val_loss: 0.0206 - val_accuracy: 0.9923\n",
            "Epoch 18/20\n",
            "261/261 [==============================] - 12s 45ms/step - loss: 0.0326 - accuracy: 0.9886 - val_loss: 0.0562 - val_accuracy: 0.9756\n",
            "Epoch 19/20\n",
            "261/261 [==============================] - 12s 45ms/step - loss: 0.0344 - accuracy: 0.9868 - val_loss: 0.0294 - val_accuracy: 0.9895\n",
            "Epoch 20/20\n",
            "261/261 [==============================] - 12s 45ms/step - loss: 0.0285 - accuracy: 0.9897 - val_loss: 0.0247 - val_accuracy: 0.9928\n",
            "66/66 - 1s - loss: 0.0247 - accuracy: 0.9928\n",
            "0.9928160905838013\n"
          ],
          "name": "stdout"
        },
        {
          "output_type": "display_data",
          "data": {
            "image/png": "[encoded data removed]",
            "text/plain": [
              "<Figure size 432x288 with 1 Axes>"
            ]
          },
          "metadata": {
            "tags": [],
            "needs_background": "light"
          }
        }
      ]
    }
  ]
}